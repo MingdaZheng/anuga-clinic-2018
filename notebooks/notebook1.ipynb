{
  "nbformat": 4,
  "nbformat_minor": 0,
  "metadata": {
    "colab": {
      "name": "notebooks/notebook1.ipynb",
      "version": "0.3.2",
      "provenance": [],
      "collapsed_sections": [],
      "include_colab_link": true
    },
    "kernelspec": {
      "name": "python2",
      "display_name": "Python 2"
    }
  },
  "cells": [
    {
      "cell_type": "markdown",
      "metadata": {
        "id": "view-in-github",
        "colab_type": "text"
      },
      "source": [
        "[View in Colaboratory](https://colab.research.google.com/github/stoiver/anuga-clinic-2018/blob/master/notebooks/notebook1.ipynb)"
      ]
    },
    {
      "metadata": {
        "id": "MFkDMm10DPK7",
        "colab_type": "text"
      },
      "cell_type": "markdown",
      "source": [
        "# CSDMS ANUGA Clinic 2018\n",
        "\n",
        "## Notebook 1: Introduction to ANUGA\n",
        "\n",
        "Here we introduce the idea of creating a `domain` which contains the mesh and quantities needed to run the simulation, and encapsulates the methods for setting up the initial conditions, the boundary conditions and the method for evolving the solution. \n",
        "\n",
        "These notebooks have been designed to run in the google `colaboratory` environment, which provides a jupyter notebook environment running on a virtual machine on the cloud. To use this environment you need a google account so that your notebook can be saved on google drive. \n",
        "\n",
        "To start interacting with the notebook follow the \n",
        "`View in Colaboratory` link above. "
      ]
    },
    {
      "metadata": {
        "id": "Dt-Ti7kdQX3C",
        "colab_type": "text"
      },
      "cell_type": "markdown",
      "source": [
        "## Setup Environment\n",
        "\n",
        "If on github, first follow the link `View in Colaboratory' to start running on google's colab environment. Then ....\n",
        "\n",
        "Run the following cell to install the dependencies and some extra code for visualising on Colaboratory.\n",
        "\n",
        "Wait until you see the comment *(5) Ready to go* before proceeding to subsequent commands. \n",
        "\n",
        "The install should take less than a minute (and quicker if you have already run this earlier)."
      ]
    },
    {
      "metadata": {
        "id": "xdCgMgk7_ZcW",
        "colab_type": "code",
        "colab": {
          "base_uri": "https://localhost:8080/",
          "height": 204
        },
        "outputId": "9199782f-ca2b-448b-8899-0b228cdbfa37"
      },
      "cell_type": "code",
      "source": [
        "import numpy as np\n",
        "import matplotlib.pyplot as plt\n",
        "\n",
        "try:\n",
        "  # On colab we can install all the packages we need via the notebook\n",
        "  #\n",
        "  # First download the clinic repository\n",
        "  import os\n",
        "  os.chdir('/content')\n",
        "  !git clone https://github.com/stoiver/anuga-clinic-2018.git\n",
        "\n",
        "  # Now install environment using tool\n",
        "  !/bin/bash /content/anuga-clinic-2018/anuga_tools/install_anuga_colab.sh\n",
        " \n",
        "except:\n",
        "  pass"
      ],
      "execution_count": 1,
      "outputs": [
        {
          "output_type": "stream",
          "text": [
            "Cloning into 'anuga-clinic-2018'...\n",
            "remote: Counting objects: 468, done.\u001b[K\n",
            "remote: Compressing objects: 100% (65/65), done.\u001b[K\n",
            "remote: Total 468 (delta 34), reused 0 (delta 0), pack-reused 403\u001b[K\n",
            "Receiving objects: 100% (468/468), 4.59 MiB | 17.29 MiB/s, done.\n",
            "Resolving deltas: 100% (192/192), done.\n",
            "(1) Install netcdf nose via pip\n",
            "(2) Install gdal via apt-get\n",
            "(3) Download anuga_core github repository\n",
            "(4) Install anuga\n",
            "(5) Ready to go\n"
          ],
          "name": "stdout"
        }
      ]
    },
    {
      "metadata": {
        "id": "0jTxMSaddabt",
        "colab_type": "text"
      },
      "cell_type": "markdown",
      "source": [
        "### Setup inline graphics and animation"
      ]
    },
    {
      "metadata": {
        "id": "zyvvRz5ydNQx",
        "colab_type": "code",
        "colab": {
          "base_uri": "https://localhost:8080/",
          "height": 34
        },
        "outputId": "5f5b2875-5a01-4a88-87d7-3313c56b0a8e"
      },
      "cell_type": "code",
      "source": [
        "# Make inline animate code available\n",
        "\n",
        "if not 'workbookDir' in globals():\n",
        "    workbookDir = os.getcwd()\n",
        "\n",
        "import sys\n",
        "sys.path.append(os.path.join(workbookDir,\"anuga-clinic-2018\"))\n",
        "                \n",
        "%matplotlib inline\n",
        "\n",
        "# Allow inline jshtml animations\n",
        "from matplotlib import rc\n",
        "rc('animation', html='jshtml')"
      ],
      "execution_count": 6,
      "outputs": [
        {
          "output_type": "stream",
          "text": [
            "workbookDir: /content\n"
          ],
          "name": "stdout"
        }
      ]
    },
    {
      "metadata": {
        "id": "n6CIHtFYYbkx",
        "colab_type": "text"
      },
      "cell_type": "markdown",
      "source": [
        "## Import ANUGA\n",
        "\n",
        "Allows us access to `anuga` and inline plotting. "
      ]
    },
    {
      "metadata": {
        "id": "1l0-N381KKGO",
        "colab_type": "code",
        "colab": {}
      },
      "cell_type": "code",
      "source": [
        "import anuga\n",
        "import anuga_tools.animate as animate"
      ],
      "execution_count": 0,
      "outputs": []
    },
    {
      "metadata": {
        "id": "p_QOy0bRZ37C",
        "colab_type": "text"
      },
      "cell_type": "markdown",
      "source": [
        "## Create an ANUGA domain\n",
        "\n",
        "A `domain` is the core object which contains the mesh and the quantities for the particular problem. Here we create a simple rectangular domain. We set the name to `channel1` which will be used when storing the simulation output to a `sww` file called `channel1.sww`."
      ]
    },
    {
      "metadata": {
        "id": "nCKdVO1BPAhx",
        "colab_type": "code",
        "colab": {}
      },
      "cell_type": "code",
      "source": [
        "domain1 = anuga.rectangular_cross_domain(40, 20, len1=20.0, len2=10.0)\n",
        "domain1.set_name('channel1')"
      ],
      "execution_count": 0,
      "outputs": []
    },
    {
      "metadata": {
        "id": "mfgw_HkDarZY",
        "colab_type": "text"
      },
      "cell_type": "markdown",
      "source": [
        "## Plot Mesh\n",
        "\n",
        "Let's look at the mesh. We will use some code derived form the `clawpack` project to simply plot and animate the output from our simulations. This is available via the `animate` module loaded from `anuga_tools`.\n",
        "\n",
        "The `Jupyter_plotter` class provides a plotting wrapper around our standard `anuga` `domain`, providing simple access to the centroid values of our evolution quantities, `stage`, `depth`, `elev`, `xmon` and `ymon` and the triangulation `triang`.\n"
      ]
    },
    {
      "metadata": {
        "id": "Bb2oWmRraSU6",
        "colab_type": "code",
        "colab": {}
      },
      "cell_type": "code",
      "source": [
        "dplotter1 = animate.Domain_plotter(domain1)  \n",
        "plt.triplot(dplotter1.triang, linewidth = 0.4);"
      ],
      "execution_count": 0,
      "outputs": []
    },
    {
      "metadata": {
        "id": "ZGGxHd8EEvea",
        "colab_type": "text"
      },
      "cell_type": "markdown",
      "source": [
        "## Setup Initial Conditions\n",
        "\n",
        "We have to setup the values of various quantities associated with the domain. In particular we need to setup the `elevation` the elevation of the bed or the bathymetry. In this case we will do this using a function. "
      ]
    },
    {
      "metadata": {
        "id": "KYe-klLvkpug",
        "colab_type": "code",
        "colab": {}
      },
      "cell_type": "code",
      "source": [
        "def topography(x, y):\n",
        "\n",
        "    z = -x/10\n",
        "\n",
        "    N = len(x)\n",
        "    \n",
        "    minx = np.floor(np.max(x)/4)\n",
        "    stepx1 = np.min(x[(x >= minx)])\n",
        "    stepx2 = np.min(x[(x > stepx1 + 0.25)])\n",
        "    \n",
        "    minx = np.floor(np.max(x)/2)\n",
        "    stepx3 = np.min(x[(x >= minx)])\n",
        "    stepx4 = np.min(x[(x > stepx3 + 0.25)])\n",
        "    \n",
        "    minx = np.floor(3*np.max(x)/4)\n",
        "    stepx5 = np.min(x[(x >= minx)])\n",
        "    stepx6 = np.min(x[(x > stepx5 + 0.25)])\n",
        "    \n",
        "    dist = 0.4 * (np.max(y) - np.min(y))\n",
        "    \n",
        "    for i in range(N):\n",
        "        if stepx1 <= x[i] <= stepx2:\n",
        "            if (y[i] < dist):\n",
        "                z[i] += 1\n",
        "                \n",
        "        if stepx3 <= x[i] <= stepx4:\n",
        "            if (y[i] > np.max(y) - dist):\n",
        "                z[i] += 1\n",
        "                \n",
        "        if stepx5 <= x[i] <= stepx6:\n",
        "            if (y[i] < dist):\n",
        "                z[i] += 1\n",
        "            \n",
        "    return z"
      ],
      "execution_count": 0,
      "outputs": []
    },
    {
      "metadata": {
        "id": "RXHrU0jPFuzh",
        "colab_type": "text"
      },
      "cell_type": "markdown",
      "source": [
        "### Set Quantities\n",
        "\n",
        "Now we set the `elevation`, `stage` and `friction` using the `domain.set_quantity` function. "
      ]
    },
    {
      "metadata": {
        "id": "xLn6Mozrnedv",
        "colab_type": "code",
        "colab": {}
      },
      "cell_type": "code",
      "source": [
        "domain1.set_quantity('elevation', topography, location='centroids')         # Use function for elevation\n",
        "domain1.set_quantity('friction', 0.01, location='centroids')                # Constant friction \n",
        "domain1.set_quantity('stage', expression='elevation', location='centroids') # Dry Bed "
      ],
      "execution_count": 0,
      "outputs": []
    },
    {
      "metadata": {
        "id": "B1Y_Aad3GWV3",
        "colab_type": "text"
      },
      "cell_type": "markdown",
      "source": [
        "### View Elevation\n",
        "\n",
        "Let's use the `matplotlib` function `tripcolor` to plot the `elevation` quantitiy.  We access the `domain` mesh and elevation quantitiy via the `dplotter` interface.  "
      ]
    },
    {
      "metadata": {
        "id": "qGJQfKBxnjGm",
        "colab_type": "code",
        "colab": {}
      },
      "cell_type": "code",
      "source": [
        "plt.tripcolor(dplotter1.triang, \n",
        "              facecolors = dplotter1.elev, \n",
        "              edgecolors='k', \n",
        "              cmap='Greys_r')\n",
        "plt.colorbar();"
      ],
      "execution_count": 0,
      "outputs": []
    },
    {
      "metadata": {
        "id": "jlgKD23QvDhF",
        "colab_type": "text"
      },
      "cell_type": "markdown",
      "source": [
        "## Setup Boundary Conditions\n",
        "\n",
        "The rectangular domain has 4 tagged boundaries, left, top, right and bottom. We need to set boundary conditons for each of these tagged boundaries. We can set Dirichlet type BC with specified values of stage, and x and y \"momentum\". Another common BC is `Reflective_boundary` which mimic a wall. "
      ]
    },
    {
      "metadata": {
        "id": "rF7q2bzOn64K",
        "colab_type": "code",
        "colab": {}
      },
      "cell_type": "code",
      "source": [
        "Bi = anuga.Dirichlet_boundary([0.4, 0, 0])         # Inflow\n",
        "Bo = anuga.Dirichlet_boundary([-2, 0, 0])          # Inflow\n",
        "Br = anuga.Reflective_boundary(domain1)            # Solid reflective wall\n",
        "\n",
        "domain1.set_boundary({'left': Bi, 'right': Bo, 'top': Br, 'bottom': Br})"
      ],
      "execution_count": 0,
      "outputs": []
    },
    {
      "metadata": {
        "id": "YRJs8HbRwLfM",
        "colab_type": "text"
      },
      "cell_type": "markdown",
      "source": [
        "## Run the Evolution\n",
        "\n",
        "We evolve using a `for` statement, which evolves the quantities using the shallow water wave solver. The calculation `yields` every `yieldstep` seconds, up to a given `duration`."
      ]
    },
    {
      "metadata": {
        "id": "3yxIDXQiH3XN",
        "colab_type": "code",
        "colab": {}
      },
      "cell_type": "code",
      "source": [
        "for t in domain1.evolve(yieldstep=2, duration=40):\n",
        "  \n",
        "    #dplotter.plot_depth_frame()\n",
        "    dplotter1.save_depth_frame()\n",
        "    \n",
        "    domain1.print_timestepping_statistics()\n",
        "\n",
        "    \n",
        "# Read in the png files stored during the evolve loop\n",
        "dplotter1.make_depth_animation() "
      ],
      "execution_count": 0,
      "outputs": []
    },
    {
      "metadata": {
        "id": "lDnBhN3Cc7wa",
        "colab_type": "text"
      },
      "cell_type": "markdown",
      "source": [
        "## Alternative Mesh Constructions\n",
        "\n",
        "`ANUGA` is based on triangles and so  the mesh can conform to interesting geometrical structures. In our example the steps define an interesting geometry. Let's conform our mesh to the steps. \n",
        "\n",
        "We will use the construction function  `anuga.create_domain_from_regions`. This function needs at least a polygon which defines the boundary of the region, and a tagging of the sections of the boundry polygon, which will allow us to specify specific boundary conditions associated with the tagged sections of the boundary. \n",
        "\n",
        "In our previous example the function `rectangular_cross_doamin` created a mesh with 4 tagged boundary sections, corresponding to the tags  `left`,  `right`, '`top` and `bottom`. \n",
        "\n",
        "We wil do the same, but this time using the function `anuga.create_domain_from_regions`."
      ]
    },
    {
      "metadata": {
        "id": "VmUj1J82dXOO",
        "colab_type": "code",
        "colab": {}
      },
      "cell_type": "code",
      "source": [
        "bounding_polygon = [[0.0, 0.0],\n",
        "                    [20.0, 0.0],\n",
        "                    [20.0, 10.0],\n",
        "                    [0.0, 10.0]]\n",
        "\n",
        "boundary_tags={'bottom': [0],\n",
        "                'right': [1],\n",
        "                'top': [2],\n",
        "                'left': [3]}\n",
        "\n",
        "\n",
        "domain2 = anuga.create_domain_from_regions(bounding_polygon, boundary_tags)\n",
        "\n",
        "# Plot the resulting mesh\n",
        "dplotter2 = animate.Domain_plotter(domain2)  \n",
        "plt.triplot(dplotter2.triang, linewidth = 0.4);"
      ],
      "execution_count": 0,
      "outputs": []
    },
    {
      "metadata": {
        "id": "mBCEfV1DDtHB",
        "colab_type": "text"
      },
      "cell_type": "markdown",
      "source": [
        "### Mesh size\n",
        "\n",
        "Obviously the mesh is too coarse. We can force the mesh size to be smaller by using the argument `maximum_triangle_size`."
      ]
    },
    {
      "metadata": {
        "id": "rFpr2id0MGBe",
        "colab_type": "code",
        "colab": {}
      },
      "cell_type": "code",
      "source": [
        "domain2 = anuga.create_domain_from_regions(bounding_polygon,\n",
        "                               boundary_tags, \n",
        "                               maximum_triangle_area = 0.2,\n",
        "                               )\n",
        "\n",
        "# Plot the resulting mesh\n",
        "dplotter2 = animate.Domain_plotter(domain2)  \n",
        "plt.triplot(dplotter2.triang, linewidth = 0.4);"
      ],
      "execution_count": 0,
      "outputs": []
    },
    {
      "metadata": {
        "id": "njryuCywDrgN",
        "colab_type": "text"
      },
      "cell_type": "markdown",
      "source": [
        "### More Complicated Boundary\n",
        "\n",
        "In the first example we created the steps using a discontinuous elevation. We can mimic that behaviour by explicitly cutting out the triangles associated with the steps. This leads to a more complicated boundary polygon. \n",
        "\n",
        "Note that we need to be careful about associating boundary polygon sections with the approriate tagged boundary.\n",
        "\n",
        "We now have 7 tagged bounday regions. These 7 regions will need to be associated with appropriate boundary conditions. "
      ]
    },
    {
      "metadata": {
        "id": "DfyXjVdFdP6a",
        "colab_type": "code",
        "colab": {}
      },
      "cell_type": "code",
      "source": [
        "bounding_polygon = [[0.0, 0.0],\n",
        "                    [5.0, 0.0], [5.0, 4.0], [5.5, 4.0], [5.5, 0.0],\n",
        "                    [15.0, 0.0], [15.0, 4.0], [15.5, 4.0], [15.5, 0.0],\n",
        "                    [20.0, 0.0],\n",
        "                    [20.0, 10.0],\n",
        "                    [10.5, 10.0], [10.5, 6.0], [10, 6.0], [10, 10.0],\n",
        "                    [0.0, 10.0]]\n",
        "\n",
        "boundary_tags={'bottom': [0,4,8],\n",
        "               'right': [9],\n",
        "               'top': [10,14],\n",
        "               'left': [15],\n",
        "               'step1': [1,2,3],\n",
        "               'step2': [5,6,7],\n",
        "               'step3': [11,12,13]\n",
        "              }\n",
        "\n",
        "\n",
        "domain2 = anuga.create_domain_from_regions(bounding_polygon, \n",
        "                                           boundary_tags,\n",
        "                                           maximum_triangle_area = 0.2,)\n",
        "\n",
        "# Plot the resulting mesh\n",
        "dplotter2 = animate.Domain_plotter(domain2)  \n",
        "plt.triplot(dplotter2.triang, linewidth = 0.4);"
      ],
      "execution_count": 0,
      "outputs": []
    },
    {
      "metadata": {
        "id": "5wS3N4D7FrK8",
        "colab_type": "text"
      },
      "cell_type": "markdown",
      "source": [
        "### Initial Conditions and Boundary Conditions\n",
        "\n",
        "As before we setup the inital values for our elevation, friction and stage. And associated Dirichlet BC on the left and right boundary regions and reflective everywhere else. "
      ]
    },
    {
      "metadata": {
        "id": "LCoiLLGrQ75n",
        "colab_type": "code",
        "colab": {}
      },
      "cell_type": "code",
      "source": [
        "#Initial Conditions\n",
        "domain2.set_quantity('elevation', lambda x,y : -x/10, location='centroids')  # Use function for elevation\n",
        "domain2.set_quantity('friction', 0.01, location='centroids')                # Constant friction \n",
        "domain2.set_quantity('stage', expression='elevation', location='centroids') # Dry Bed \n",
        "\n",
        "# Boundary Conditions\n",
        "Bi = anuga.Dirichlet_boundary([0.4, 0, 0])         # Inflow\n",
        "Bo = anuga.Dirichlet_boundary([-2, 0, 0])          # Inflow\n",
        "Br = anuga.Reflective_boundary(domain2)            # Solid reflective wall\n",
        "\n",
        "domain2.set_boundary({'left': Bi, 'right': Bo, 'top': Br, 'bottom': Br, 'step1': Br, 'step2': Br, 'step3': Br})"
      ],
      "execution_count": 0,
      "outputs": []
    },
    {
      "metadata": {
        "id": "zLtXZwJzGGxK",
        "colab_type": "text"
      },
      "cell_type": "markdown",
      "source": [
        "### Evolve\n",
        "\n",
        "Now we can evolve. With this implementation the step walls are infinitely high and so we will not get a flow over the top of 2nd lower step. "
      ]
    },
    {
      "metadata": {
        "id": "aYIRAiKlRE-P",
        "colab_type": "code",
        "colab": {}
      },
      "cell_type": "code",
      "source": [
        "for t in domain2.evolve(yieldstep=2, duration=40):\n",
        "  \n",
        "    #dplotter.plot_depth_frame()\n",
        "    dplotter2.save_depth_frame()\n",
        "    \n",
        "    domain2.print_timestepping_statistics()\n",
        "\n",
        "    \n",
        "# Read in the png files stored during the evolve loop\n",
        "dplotter2.make_depth_animation() "
      ],
      "execution_count": 0,
      "outputs": []
    },
    {
      "metadata": {
        "id": "_wQvUqf-GmG4",
        "colab_type": "text"
      },
      "cell_type": "markdown",
      "source": [
        "## River Walls\n",
        "\n",
        "An alternative mthod to simulate our steps is to use `riverWalls`. Think of  `riverWalls` as infitiely thin walls. To set these up we need to build our mesh with  `breaklines` to define where the wall will occur and also how to apply them during the evolution by setting up a `riverWall` operator. \n",
        "\n",
        "First setup the mesh.\n",
        "\n",
        "We setup a dictionary to contain the x,y,z information of each of the river walls in our simulation. In this case ,3 river walls associated with step1 to step3. "
      ]
    },
    {
      "metadata": {
        "id": "0oUJDyGPRQ1U",
        "colab_type": "code",
        "colab": {}
      },
      "cell_type": "code",
      "source": [
        "bounding_polygon = [[0.0, 0.0],\n",
        "                    [20.0, 0.0],\n",
        "                    [20.0, 10.0],\n",
        "                    [0.0, 10.0]]\n",
        "\n",
        "boundary_tags={'bottom': [0],\n",
        "               'right': [1],\n",
        "               'top': [2],\n",
        "               'left': [3]\n",
        "              }\n",
        "\n",
        "\n",
        "riverWalls = { 'step1': [[5.0,0.0,   0.5], [5.0,4.0,  0.5]],\n",
        "               'step2': [[15.0,0.0, -0.5], [15.0,4.0,-0.5]],\n",
        "               'step3': [[10.0,10.0, 0.0], [10.0,6.0, 0.0]]\n",
        "             }\n",
        "\n",
        "#bline = [[[0.1,5.0,0.0],[19.9,5.0,0.0]]]\n",
        "              \n",
        "domain3 = anuga.create_domain_from_regions(bounding_polygon, \n",
        "                                           boundary_tags,\n",
        "                                           maximum_triangle_area = 0.2,\n",
        "                                           breaklines = riverWalls.values())\n",
        "\n",
        "\n",
        "# Plot the resulting Mesh\n",
        "dplotter3 = animate.Domain_plotter(domain3)  \n",
        "plt.triplot(dplotter3.triang, linewidth = 0.4);"
      ],
      "execution_count": 0,
      "outputs": []
    },
    {
      "metadata": {
        "id": "qThSW52fH_vE",
        "colab_type": "text"
      },
      "cell_type": "markdown",
      "source": [
        "### Initial and Boundary Conditions and River walls"
      ]
    },
    {
      "metadata": {
        "id": "jlXTa435RSTN",
        "colab_type": "code",
        "colab": {}
      },
      "cell_type": "code",
      "source": [
        "#Initial Conditions\n",
        "domain3.set_quantity('elevation', lambda x,y : -x/10, location='centroids') # Use function for elevation\n",
        "domain3.set_quantity('friction', 0.01, location='centroids')                # Constant friction \n",
        "domain3.set_quantity('stage', expression='elevation', location='centroids') # Dry Bed \n",
        "\n",
        "\n",
        "# Boundary Conditions\n",
        "Bi = anuga.Dirichlet_boundary([0.4, 0, 0])         # Inflow\n",
        "Bo = anuga.Dirichlet_boundary([-2, 0, 0])          # Inflow\n",
        "Br = anuga.Reflective_boundary(domain2)            # Solid reflective wall\n",
        "\n",
        "domain3.set_boundary({'left': Bi, 'right': Bo, 'top': Br, 'bottom': Br})\n",
        "\n",
        "# Setup RiverWall\n",
        "domain3.riverwallData.create_riverwalls(riverWalls, verbose=False)\n"
      ],
      "execution_count": 0,
      "outputs": []
    },
    {
      "metadata": {
        "id": "j7kym_0RIwiX",
        "colab_type": "text"
      },
      "cell_type": "markdown",
      "source": [
        "### Evolve\n",
        "\n",
        "Notice that we have setup the river walls to be only 1 metre high. So we would expect some overtopping of the 2nd lower step. "
      ]
    },
    {
      "metadata": {
        "id": "cl0LBu6CRTRG",
        "colab_type": "code",
        "colab": {}
      },
      "cell_type": "code",
      "source": [
        "for t in domain3.evolve(yieldstep=2, duration=40):\n",
        "  \n",
        "    #dplotter.plot_depth_frame()\n",
        "    dplotter3.save_depth_frame()\n",
        "    \n",
        "    domain3.print_timestepping_statistics()\n",
        "\n",
        "    \n",
        "# Read in the png files stored during the evolve loop\n",
        "dplotter3.make_depth_animation() "
      ],
      "execution_count": 0,
      "outputs": []
    },
    {
      "metadata": {
        "id": "FnkApd1GPe7t",
        "colab_type": "code",
        "colab": {}
      },
      "cell_type": "code",
      "source": [
        ""
      ],
      "execution_count": 0,
      "outputs": []
    }
  ]
}