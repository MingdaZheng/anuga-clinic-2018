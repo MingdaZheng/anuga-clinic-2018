{
  "nbformat": 4,
  "nbformat_minor": 0,
  "metadata": {
    "colab": {
      "name": "notebooks/notebook4.ipynb",
      "version": "0.3.2",
      "provenance": [],
      "collapsed_sections": [],
      "include_colab_link": true
    },
    "kernelspec": {
      "name": "python2",
      "display_name": "Python 2"
    }
  },
  "cells": [
    {
      "cell_type": "markdown",
      "metadata": {
        "id": "view-in-github",
        "colab_type": "text"
      },
      "source": [
        "<a href=\"https://colab.research.google.com/github/stoiver/anuga-clinic-2018/blob/master/notebooks/notebook5.ipynb\" target=\"_parent\"><img src=\"https://colab.research.google.com/assets/colab-badge.svg\" alt=\"Open In Colab\"/></a>"
      ]
    },
    {
      "metadata": {
        "id": "MFkDMm10DPK7",
        "colab_type": "text"
      },
      "cell_type": "markdown",
      "source": [
        "# CSDMS ANUGA Clinic 2018\n",
        "\n",
        "## Notebook 5: Monai Valley Tsunami runup \n",
        "\n",
        "Validation of the AnuGA implementation of the shallow water wave equation.\n",
        "This script sets up Okushiri Island benchmark as published at the\n",
        "\n",
        "THE THIRD INTERNATIONAL WORKSHOP ON LONG-WAVE RUNUP MODELS\n",
        "June 17-18 2004\n",
        "\n",
        "Wrigley Marine Science Center\n",
        "Catalina Island, California\n",
        "http://www.cee.cornell.edu/longwave/\n",
        "\n",
        "\n",
        "The validation data was downloaded and made available in this directory\n",
        "for convenience but the original data is available at\n",
        "http://www.cee.cornell.edu/longwave/index.cfm?page=benchmark&problem=2\n",
        "where a detailed description of the problem is also available.\n",
        "\n",
        "\n",
        "### Installation\n",
        "\n",
        "These notebooks have been designed to run in the google `colaboratory` environment, which provides a jupyter notebook environment running on a virtual machine on the cloud. To use this environment you need a google account so that your notebook can be saved on google drive. \n",
        "\n",
        "To start interacting with the notebook follow the \n",
        "`View in Colaboratory` link above. "
      ]
    },
    {
      "metadata": {
        "id": "Dt-Ti7kdQX3C",
        "colab_type": "text"
      },
      "cell_type": "markdown",
      "source": [
        "## Setup Environment\n",
        "\n",
        "If on github, first follow the link `View in Colaboratory' to start running on google's colab environment. Then ....\n",
        "\n",
        "Run the following cell to install the dependencies and some extra code for visualising on Colaboratory.\n",
        "\n",
        "Wait until you see the comment *(5) Ready to go* before proceeding to subsequent commands. \n",
        "\n",
        "The install should take less than a minute (and quicker if you have already run this earlier)."
      ]
    },
    {
      "metadata": {
        "id": "xdCgMgk7_ZcW",
        "colab_type": "code",
        "outputId": "4c14b32b-0c3f-476d-b622-94f597282c5d",
        "colab": {
          "base_uri": "https://localhost:8080/",
          "height": 228
        }
      },
      "cell_type": "code",
      "source": [
        "import numpy as np\n",
        "import matplotlib.pyplot as plt\n",
        "\n",
        "try:\n",
        "  # On colab we can install all the packages we need via the notebook\n",
        "  #\n",
        "  # First download the clinic repository\n",
        "  import os\n",
        "  os.chdir('/content')\n",
        "  !git clone https://github.com/stoiver/anuga-clinic-2018.git\n",
        "\n",
        "  # Now install environment using tool\n",
        "  !/bin/bash /content/anuga-clinic-2018/anuga_tools/install_anuga_colab.sh\n",
        " \n",
        "except:\n",
        "  pass\n",
        "\n",
        "# Make inline animate code available\n",
        "if not 'workbookDir' in globals():\n",
        "    workbookDir = os.getcwd()\n",
        "\n",
        "import sys\n",
        "sys.path.append(os.path.join(workbookDir,\"anuga-clinic-2018\"))"
      ],
      "execution_count": 1,
      "outputs": [
        {
          "output_type": "stream",
          "text": [
            "Cloning into 'anuga-clinic-2018'...\n",
            "remote: Enumerating objects: 12, done.\u001b[K\n",
            "remote: Counting objects: 100% (12/12), done.\u001b[K\n",
            "remote: Compressing objects: 100% (12/12), done.\u001b[K\n",
            "remote: Total 563 (delta 6), reused 0 (delta 0), pack-reused 551\u001b[K\n",
            "Receiving objects: 100% (563/563), 8.50 MiB | 12.72 MiB/s, done.\n",
            "Resolving deltas: 100% (258/258), done.\n",
            "(1) Install netcdf nose via pip\n",
            "(2) Install gdal via apt-get\n",
            "(3) Download anuga_core github repository\n",
            "(4) Install anuga\n",
            "(5) Ready to go\n"
          ],
          "name": "stdout"
        }
      ]
    },
    {
      "metadata": {
        "id": "uCN-Ah6pIg2k",
        "colab_type": "text"
      },
      "cell_type": "markdown",
      "source": [
        "### Import ANUGA and Tools\n",
        "\n",
        "Once `anuga` and `anuga_clinic-2018` have been installed we can now `import` our standard libraries."
      ]
    },
    {
      "metadata": {
        "id": "ZOHiEet7IYhe",
        "colab_type": "code",
        "colab": {}
      },
      "cell_type": "code",
      "source": [
        "%matplotlib inline\n",
        "\n",
        "# Allow inline jshtml animations\n",
        "from matplotlib import rc\n",
        "rc('animation', html='jshtml')\n",
        "\n",
        "import anuga\n",
        "import anuga_tools.animate as animate"
      ],
      "execution_count": 0,
      "outputs": []
    },
    {
      "metadata": {
        "id": "n6CIHtFYYbkx",
        "colab_type": "text"
      },
      "cell_type": "markdown",
      "source": [
        "## The Code \n",
        "\n",
        "This code is taken from `anuga_core/validation_tests/experimental_data/okishuri/run_okishuri.py`.\n"
      ]
    },
    {
      "metadata": {
        "id": "53vsHGNPAJ36",
        "colab_type": "code",
        "colab": {}
      },
      "cell_type": "code",
      "source": [
        "# Given boundary wave\n",
        "boundary_filename = 'Benchmark_2_input.tms'\n",
        "\n",
        "# Observed timeseries\n",
        "validation_filename = 'output_ch5-7-9.txt'\n",
        "\n",
        "# Digital Elevation Model\n",
        "bathymetry_filename_stem = 'Benchmark_2_Bathymetry'\n",
        "bathymetry_filename = bathymetry_filename_stem + '.pts'\n",
        "\n",
        "# Triangular mesh\n",
        "mesh_filename = 'Benchmark_2.msh'\n",
        "\n",
        "# Model output\n",
        "output_filename = 'okushiri_auto_validation.sww'"
      ],
      "execution_count": 0,
      "outputs": []
    },
    {
      "metadata": {
        "id": "m9Jj58FyL7oe",
        "colab_type": "text"
      },
      "cell_type": "markdown",
      "source": [
        "### Parameters to Setup Domain\n",
        "\n"
      ]
    },
    {
      "metadata": {
        "id": "m7kWU_05BT-Q",
        "colab_type": "code",
        "outputId": "98e02fd2-b353-4b8a-c11b-377c33412389",
        "colab": {
          "base_uri": "https://localhost:8080/",
          "height": 283
        }
      },
      "cell_type": "code",
      "source": [
        "base_resolution = 0.1\n",
        "\n",
        "\n",
        "# Basic geometry and bounding polygon\n",
        "xleft   = 0\n",
        "xright  = 5.448\n",
        "ybottom = 0\n",
        "ytop    = 3.402\n",
        "\n",
        "point_sw = [xleft, ybottom]\n",
        "point_se = [xright, ybottom]\n",
        "point_nw = [xleft, ytop]    \n",
        "point_ne = [xright, ytop]\n",
        "\n",
        "bounding_polygon = [point_se,\n",
        "                    point_ne,\n",
        "                    point_nw,\n",
        "                    point_sw]\n",
        "\n",
        "\n",
        "# Localised refined area for gulleys\n",
        "xl = 4.8; xr = 5.3; yb = 1.6; yt = 2.3\n",
        "p0 = [xl, yb]\n",
        "p1 = [xr, yb]\n",
        "p2 = [xr, yt]\n",
        "p3 = [xl, yt]\n",
        "\n",
        "gulleys = [p0, p1, p2, p3]\n",
        "\n",
        "\n",
        "\n",
        "# Island area and drawdown region\n",
        "island_0 = [xleft + 2*(xright-xleft)/3+1.2, ytop-0.5]\n",
        "island_1 = [xleft + 2*(xright-xleft)/3+0.5, ybottom + 2*(ytop-ybottom)/3]\n",
        "island_2 = [xleft + (xright-xleft)/2+0.4, ybottom + 2*(ytop-ybottom)/3-0.3]\n",
        "island_3 = [xleft + (xright-xleft)/2+0.4, ybottom + (ytop-ybottom)/3+0.3]\n",
        "island_4 = [xleft + 2*(xright-xleft)/3+0.4, ybottom + (ytop-ybottom)/3-0.3]\n",
        "island_5 = [xleft + 2*(xright-xleft)/3+1.2, ybottom+0.8]\n",
        "island_6 = [xl, yb]  \n",
        "island_7 = [xl, yt]\n",
        "\n",
        "island = [island_0, island_1, island_2,\n",
        "          island_3, island_4, island_5,\n",
        "          island_6, island_7]\n",
        "\n",
        "\n",
        "\n",
        "# Region spanning half right hand side of domain just inside boundary\n",
        "rhs_nw = [xleft + (xright-xleft)/3+1, ytop-1.4]\n",
        "rhs_sw = [xleft + (xright-xleft)/3+1, ybottom+0.5]\n",
        "rhs_se = [xright-0.1, ybottom+0.2]\n",
        "rhs_ne = [xright-0.1, ytop-0.2]        \n",
        "\n",
        "rhs_region = [rhs_nw, rhs_ne, rhs_se, rhs_sw]\n",
        "\n",
        "\n",
        "# Interior regions and creation of mesh\n",
        "interior_regions = [[rhs_region, 0.1*base_resolution],\n",
        "                    [island, 0.1*base_resolution],\n",
        "                    [gulleys, 0.05*base_resolution]]    \n",
        "\n",
        "\n",
        "domain = anuga.create_domain_from_regions(bounding_polygon,\n",
        "                                 boundary_tags={'wall': [0, 1, 3],\n",
        "                                                'wave': [2]},     \n",
        "                                 maximum_triangle_area=base_resolution,\n",
        "                                 interior_regions=interior_regions,\n",
        "                                 use_cache=False,\n",
        "                                 verbose=False)\n",
        "\n",
        "dplotter = animate.Domain_plotter(domain)  \n",
        "plt.triplot(dplotter.triang, linewidth = 0.4);"
      ],
      "execution_count": 16,
      "outputs": [
        {
          "output_type": "stream",
          "text": [
            "Figure files for each frame will be stored in _plot\n"
          ],
          "name": "stdout"
        },
        {
          "output_type": "display_data",
          "data": {
            "image/png": "[encoded data removed]",
            "text/plain": [
              "<matplotlib.figure.Figure at 0x7fd52dafb290>"
            ]
          },
          "metadata": {
            "tags": []
          }
        }
      ]
    },
    {
      "metadata": {
        "id": "38DaBV-eBJ1x",
        "colab_type": "text"
      },
      "cell_type": "markdown",
      "source": [
        "Create Mesh"
      ]
    },
    {
      "metadata": {
        "id": "1l0-N381KKGO",
        "colab_type": "code",
        "colab": {}
      },
      "cell_type": "code",
      "source": [
        "\n",
        "\n",
        "#-------------------------\n",
        "# Initial Conditions\n",
        "#-------------------------\n",
        "domain.set_quantity('friction', 0.0025)\n",
        "domain.set_quantity('stage', 0.0)\n",
        "\n",
        "domain.set_quantity('elevation',\n",
        "                    filename=project.bathymetry_filename,\n",
        "                    alpha=0.001,                    \n",
        "                    verbose=verbose)\n",
        "\n",
        "#-------------------------\n",
        "# Set simulation parameters\n",
        "#-------------------------\n",
        "domain.set_name(project.output_filename)  # Name of output sww file \n",
        "domain.set_minimum_storable_height(0.001) # Don't store w-z < 0.001m\n",
        "\n",
        "\n",
        "#-------------------------\n",
        "# Boundary Conditions\n",
        "#-------------------------\n",
        "\n",
        "# Create boundary function from timeseries provided in file\n",
        "wave_function = anuga.file_function(project.boundary_filename,\n",
        "                         domain, verbose=verbose)\n",
        "\n",
        "# Create and assign boundary objects\n",
        "Bts = anuga.Transmissive_n_momentum_zero_t_momentum_set_stage_boundary(domain, wave_function)\n",
        "Br = anuga.Reflective_boundary(domain)\n",
        "domain.set_boundary({'wave': Bts, 'wall': Br})\n",
        "\n",
        "#-------------------------\n",
        "# Evolve through time\n",
        "#-------------------------\n",
        "import time\n",
        "t0 = time.time()\n",
        "\n",
        "for t in domain.evolve(yieldstep = 0.05, finaltime = 25.0):\n",
        "    domain.write_time()\n",
        "\n",
        "\n",
        "\n",
        "print 'That took %.2f seconds' %(time.time()-t0)\n"
      ],
      "execution_count": 0,
      "outputs": []
    },
    {
      "metadata": {
        "id": "asQCz8wjQnbf",
        "colab_type": "text"
      },
      "cell_type": "markdown",
      "source": [
        "### RiverWall Setup and Utility Procedure\n",
        "\n",
        "We will be setting up a `riverwall` which implicitly has an associated polyline. Setup a procedure to pull out this polyline so that it can be used in the construction of the `domain`.\n",
        "\n"
      ]
    },
    {
      "metadata": {
        "id": "mSt6iBYLQnuo",
        "colab_type": "code",
        "colab": {}
      },
      "cell_type": "code",
      "source": [
        "riverWall = { 'centralWall':\n",
        "                           [ [wallLoc, 0.0, wallHeight],\n",
        "                             [wallLoc, 100.0, wallHeight]] \n",
        "                        }\n",
        "\n",
        "riverWall_Par = {'centralWall':{'Qfactor':1.0}}\n",
        "\n",
        "def toPolyline(riverWall):\n",
        "  return [np.array(riverWall.values()[0])[:,0:2].tolist()]"
      ],
      "execution_count": 0,
      "outputs": []
    },
    {
      "metadata": {
        "id": "uNFTBGMLRepO",
        "colab_type": "text"
      },
      "cell_type": "markdown",
      "source": [
        "### Setup Pump geometry\n",
        "\n",
        "First setup the inlet and outlet polygonal regions of the pump. "
      ]
    },
    {
      "metadata": {
        "id": "7yMvW8gywa_F",
        "colab_type": "code",
        "colab": {}
      },
      "cell_type": "code",
      "source": [
        "end_point0 = [49.0,50.0]\n",
        "end_point1 = [51.0,50.0]\n",
        "\n",
        "end_points = [end_point0, end_point1]\n",
        "\n",
        "inlet1_poly = [[[end_point0[0]-10, 45.0],[end_point0[0]-10,55],\n",
        "                [end_point0[0],55],[end_point0[0],45],[end_point0[0]-10, 45.0]]]\n",
        "              \n",
        "inlet2_poly = [[[end_point1[0], 45.0],[end_point1[0],55],\n",
        "                [end_point1[0]+10,55],[end_point1[0]+10,45],[end_point1[0], 45.0]]]\n",
        "              "
      ],
      "execution_count": 0,
      "outputs": []
    },
    {
      "metadata": {
        "id": "EnFwhpcfQFID",
        "colab_type": "text"
      },
      "cell_type": "markdown",
      "source": [
        "### Create and Setup Domain\n",
        "\n",
        "Create  a domain with a breakline down the middle (where the riverWall will occur) and two polygonal regions where the inlet and oulet polygons will sit. "
      ]
    },
    {
      "metadata": {
        "id": "kYnnXxk-QFax",
        "colab_type": "code",
        "colab": {}
      },
      "cell_type": "code",
      "source": [
        "domain = anuga.create_domain_from_regions(boundaryPolygon, \n",
        "                           boundary_tags={'left': [0],\n",
        "                                        'top': [1],\n",
        "                                        'right': [2],\n",
        "                                        'bottom': [3]},\n",
        "                           maximum_triangle_area = 10.0,\n",
        "                           minimum_triangle_angle = 28.0,\n",
        "                           interior_regions =[ ], #[ [higherResPolygon, 1.*1.*0.5],\n",
        "                                                  #  [midResPolygon, 3.0*3.0*0.5]],\n",
        "                           breaklines=toPolyline(riverWall)+inlet1_poly+inlet2_poly,\n",
        "                           regionPtArea=regionPtAreas,\n",
        "                           use_cache=False,\n",
        "                           verbose=False\n",
        "                           )\n",
        "\n",
        "\n",
        "#domain.set_flow_algorithm('DE1')\n",
        "domain.set_name('run_pump')\n",
        "domain.set_store_vertices_uniquely(True)\n",
        "\n",
        "d_plotter = animate.Domain_plotter(domain)"
      ],
      "execution_count": 0,
      "outputs": []
    },
    {
      "metadata": {
        "id": "EmtgsITKO_A4",
        "colab_type": "text"
      },
      "cell_type": "markdown",
      "source": [
        "### Setup Initial Conditions\n",
        "\n",
        "We will have a slight slope down towards the right, with water height `InitialOceanStage` on the  right, and `InitialLandStage` on the left."
      ]
    },
    {
      "metadata": {
        "id": "83zqqhutO_Vt",
        "colab_type": "code",
        "colab": {}
      },
      "cell_type": "code",
      "source": [
        "def topography(x,y):\n",
        "    return -x/150. \n",
        "\n",
        "def stagefun(x,y):\n",
        "    stg = InitialOceanStage*(x>=wallLoc) + InitialLandStage*(x<wallLoc)\n",
        "    return stg \n",
        "\n",
        "\n",
        "# NOTE: Setting quantities at centroids is important for exactness of tests\n",
        "domain.set_quantity('elevation',topography,location='centroids')     \n",
        "domain.set_quantity('stage', stagefun,location='centroids')    "
      ],
      "execution_count": 0,
      "outputs": []
    },
    {
      "metadata": {
        "id": "K_h6MlQFNsbD",
        "colab_type": "text"
      },
      "cell_type": "markdown",
      "source": [
        "### Setup RiverWall \n",
        "\n",
        "From the `riverWall` polyline and elevation data create a riverWall  `operator`. Looking back at the definition of `riverWall` we see that this will create a wall of height `wallHeight` down the middle of the domain. "
      ]
    },
    {
      "metadata": {
        "id": "z3C0XzD4Ns8r",
        "colab_type": "code",
        "colab": {}
      },
      "cell_type": "code",
      "source": [
        "domain.riverwallData.create_riverwalls(riverWall,riverWall_Par,verbose=False) "
      ],
      "execution_count": 0,
      "outputs": []
    },
    {
      "metadata": {
        "id": "RQih8Hn9N7Hk",
        "colab_type": "text"
      },
      "cell_type": "markdown",
      "source": [
        "### Boundary conditions\n",
        "\n",
        "Simple reflective BC all around\n"
      ]
    },
    {
      "metadata": {
        "id": "Ipai69CAN4Gv",
        "colab_type": "code",
        "colab": {}
      },
      "cell_type": "code",
      "source": [
        "Br = anuga.Reflective_boundary(domain)\n",
        "domain.set_boundary({'left': Br, 'right': Br, 'top': Br, 'bottom':Br})"
      ],
      "execution_count": 0,
      "outputs": []
    },
    {
      "metadata": {
        "id": "o2ew3M_qNKw3",
        "colab_type": "text"
      },
      "cell_type": "markdown",
      "source": [
        "### Setup pump Operator\n",
        "\n",
        "(1) First setup the pump characteristics\n",
        "\n",
        "(2) Then locate and create the pump using the operator"
      ]
    },
    {
      "metadata": {
        "id": "QnzR4HquNLgL",
        "colab_type": "code",
        "colab": {}
      },
      "cell_type": "code",
      "source": [
        "pump_function = anuga.pumping_station_function(\n",
        "            domain=domain,\n",
        "            pump_capacity=100.0,\n",
        "            hw_to_start_pumping=0.0,\n",
        "            hw_to_stop_pumping=-1.0,\n",
        "            initial_pump_rate=100.0, \n",
        "            pump_rate_of_increase = 50.0, \n",
        "            pump_rate_of_decrease = 50.0, \n",
        "            verbose=True)\n",
        "\n",
        "\n",
        "end_points = [[49.0,50.0],[51.0,50.0]]\n",
        "pump = anuga.Internal_boundary_operator(domain, pump_function,\n",
        "                                        width = 10.0,\n",
        "                                        height = 1.0,\n",
        "                                        apron = 10.0,\n",
        "                                        end_points=end_points,\n",
        "                                        verbose=True)\n"
      ],
      "execution_count": 0,
      "outputs": []
    },
    {
      "metadata": {
        "id": "v7AZXi7uMv2v",
        "colab_type": "text"
      },
      "cell_type": "markdown",
      "source": [
        "### Evolve\n",
        "\n",
        "Monitor the amount of water on each side of the wall. The sum should remain constant, and the change should be match the pump capacity."
      ]
    },
    {
      "metadata": {
        "id": "EblPWS4CMyAQ",
        "colab_type": "code",
        "colab": {}
      },
      "cell_type": "code",
      "source": [
        "region1 = anuga.Region(domain, polygon=[[0.0,0.0], [50.0,0.0], [50.0, 100.0], [0.0,100.0]])\n",
        "region2 = anuga.Region(domain, polygon=[[50.0,0.0], [100.0,0.0], [100.0, 100.0], [50.0,100.0]])\n",
        "\n",
        "for t in domain.evolve(yieldstep=2, duration=60):\n",
        "    domain.print_timestepping_statistics()\n",
        "    stage = domain.get_quantity('stage')\n",
        "    elev  = domain.get_quantity('elevation')\n",
        "    height = stage - elev\n",
        "    \n",
        "    d_plotter.plot_depth_frame()\n",
        "\n",
        "    print anuga.indent + 'Integral1 = ', height.get_integral(region=region1)\n",
        "    print anuga.indent + 'Integral2 = ', height.get_integral(region=region2)\n",
        "    print anuga.indent + 'Total Integral = ', height.get_integral()\n",
        "    #pump.print_timestepping_statistics()"
      ],
      "execution_count": 0,
      "outputs": []
    },
    {
      "metadata": {
        "id": "QpGVChWjwi5G",
        "colab_type": "text"
      },
      "cell_type": "markdown",
      "source": [
        "## Visualise Flow\n",
        "\n",
        "Let's open up the `swwfile` and look at the evolution of the `depth` the `stage` and the `elev`."
      ]
    },
    {
      "metadata": {
        "id": "OCRY9K9R-DDX",
        "colab_type": "code",
        "colab": {}
      },
      "cell_type": "code",
      "source": [
        "# Create a wrapper for contents of sww file\n",
        "swwfile = 'run_pump.sww'\n",
        "splotter = animate.SWW_plotter(swwfile);\n",
        "\n",
        "plt.triplot(splotter.triang, linewidth = 0.4);"
      ],
      "execution_count": 0,
      "outputs": []
    },
    {
      "metadata": {
        "id": "nSJhl9y3K_aJ",
        "colab_type": "code",
        "colab": {}
      },
      "cell_type": "code",
      "source": [
        "# plot stage\n",
        "splotter.triang.set_mask(None)\n",
        "for i,time in enumerate(splotter.time):\n",
        "  print time\n",
        "  splotter.save_stage_frame(i)\n",
        "  \n",
        "splotter.make_stage_animation()"
      ],
      "execution_count": 0,
      "outputs": []
    },
    {
      "metadata": {
        "id": "LHcS1-qcxfVW",
        "colab_type": "text"
      },
      "cell_type": "markdown",
      "source": [
        "## Animation\n",
        "\n",
        "We ca use the `FuncAnimation' function to animate a sequence of timeslices (in this case `stage`)\n",
        "\n",
        "\n"
      ]
    },
    {
      "metadata": {
        "id": "cFciK00M1zUF",
        "colab_type": "code",
        "colab": {}
      },
      "cell_type": "code",
      "source": [
        "def update_frame(i):\n",
        "  ax.clear()\n",
        "  artist = ax.tripcolor(splotter.triang, \n",
        "              facecolors = splotter.stage[i], \n",
        "              edgecolors='k', \n",
        "              cmap='Spectral',\n",
        "              vmax = 6.0,\n",
        "              vmin = 2.0) \n",
        "  ax.set_title('Stage (time %05.2f)' % splotter.time[i],loc='right')\n",
        "  fig.colorbar(artist, cax=cax)\n",
        "  \n",
        "\n",
        "  \n",
        "fig = plt.figure();\n",
        "ax = plt.gca();\n",
        "cax = fig.add_axes([0.91, 0.125, 0.03, 0.75])\n",
        "\n",
        "# increase step to skip frames; increase interval to increase movie speed\n",
        "step = 2\n",
        "anim = animation.FuncAnimation(fig, update_frame, frames=len(splotter.depth)/step, interval=200);\n",
        "\n",
        "\n",
        "plt.close()\n",
        "\n",
        "anim\n"
      ],
      "execution_count": 0,
      "outputs": []
    },
    {
      "metadata": {
        "id": "2Mf_ALyZxo72",
        "colab_type": "text"
      },
      "cell_type": "markdown",
      "source": [
        "###  3D Surface Plots\n",
        "\n",
        "We can use the mpl module to produce some 3D plots. We need to create vertex values given the centroid values."
      ]
    },
    {
      "metadata": {
        "id": "_6bT1VYTZ0u0",
        "colab_type": "code",
        "colab": {}
      },
      "cell_type": "code",
      "source": [
        "\n",
        "X = np.vstack((splotter.xc, splotter.yc)).transpose()\n",
        "E = splotter.elev\n",
        "\n",
        "splotter.nodes = np.vstack((splotter.x,splotter.y)).transpose()\n",
        "import scipy\n",
        "\n",
        "stage_v = []\n",
        "for i,S in enumerate(splotter.stage):\n",
        "  #print i, S.shape, X.shape\n",
        "  Interp = scipy.interpolate.NearestNDInterpolator(X,S)\n",
        "  stage_v.append(Interp(splotter.nodes))\n",
        "  \n",
        "stage_v = np.array(stage_v)\n",
        "\n",
        "Interp = scipy.interpolate.NearestNDInterpolator(X,E)\n",
        "elev_v = Interp(splotter.nodes)\n",
        "\n",
        "\n",
        "\n",
        "\n",
        "\n",
        "from matplotlib.animation import FuncAnimation\n",
        "#from mpl_toolkits.mplot3d import Axes3D\n",
        "\n",
        "\n",
        "fig = plt.figure();\n",
        "#fig, ax = plt.subplots()\n",
        "ax = plt.gca(projection='3d');\n",
        "\n",
        "def update_image(i):\n",
        "  ax.clear()\n",
        "  ax.plot_trisurf(splotter.triang, elev_v, color='navajowhite', edgecolors='none', antialiased=False, shade=True);\n",
        "  ax.plot_trisurf(splotter.triang, stage_v[i*step], color='dodgerblue', edgecolors='none', alpha=1.0, linewidth=0, antialiased=False, shade=True);\n",
        "  ax.set_zlim(elev_v.min(), np.max([stage_v.max(), elev_v.max()]));\n",
        "    \n",
        "\n",
        "# increase step to skip frames; increase interval to increase movie speed\n",
        "step = 4\n",
        "anim = FuncAnimation(fig, update_image, frames=len(splotter.depth)/step, interval=200);\n",
        "\n",
        "plt.close()\n",
        "\n",
        "anim"
      ],
      "execution_count": 0,
      "outputs": []
    },
    {
      "metadata": {
        "id": "llOycSk7UlIA",
        "colab_type": "code",
        "colab": {}
      },
      "cell_type": "code",
      "source": [
        ""
      ],
      "execution_count": 0,
      "outputs": []
    }
  ]
}